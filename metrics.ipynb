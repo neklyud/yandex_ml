{
 "cells": [
  {
   "cell_type": "code",
   "execution_count": 1,
   "metadata": {},
   "outputs": [],
   "source": [
    "import pandas as pd"
   ]
  },
  {
   "cell_type": "code",
   "execution_count": 2,
   "metadata": {},
   "outputs": [],
   "source": [
    "data = pd.read_csv('classification.csv')"
   ]
  },
  {
   "cell_type": "code",
   "execution_count": 17,
   "metadata": {},
   "outputs": [],
   "source": [
    "import numpy as np\n",
    "true_classes = data.iloc[:,0].to_numpy()\n",
    "pred_classes = data.iloc[:,1].to_numpy()"
   ]
  },
  {
   "cell_type": "code",
   "execution_count": 27,
   "metadata": {},
   "outputs": [],
   "source": [
    "TP = 0\n",
    "FP = 0\n",
    "TN = 0\n",
    "FN = 0\n",
    "for i, item in enumerate(true_classes):\n",
    "    if item == pred_classes[i] and item == 1:\n",
    "        TP += 1\n",
    "    if item == pred_classes[i] and item == 0:\n",
    "        TN += 1\n",
    "    if item == 1 and pred_classes[i] == 0:\n",
    "        FN += 1\n",
    "    if item == 0 and pred_classes[i] == 1:\n",
    "        FP += 1"
   ]
  },
  {
   "cell_type": "code",
   "execution_count": 28,
   "metadata": {},
   "outputs": [
    {
     "name": "stdout",
     "output_type": "stream",
     "text": [
      "TP =  43 TN =  64 FN =  59 FP =  34\n"
     ]
    }
   ],
   "source": [
    "print('TP = ', TP, 'TN = ', TN, 'FN = ', FN, 'FP = ', FP)"
   ]
  },
  {
   "cell_type": "code",
   "execution_count": 34,
   "metadata": {},
   "outputs": [
    {
     "name": "stdout",
     "output_type": "stream",
     "text": [
      "my accuracy =  0.535 real accuracy =  0.535\n"
     ]
    }
   ],
   "source": [
    "from sklearn.metrics import accuracy_score\n",
    "my_accuracy = (TP + TN)/(TP + TN + FP + FN)\n",
    "accuracy = accuracy_score(true_classes, pred_classes)\n",
    "print('my accuracy = ', my_accuracy, 'real accuracy = ', accuracy)"
   ]
  },
  {
   "cell_type": "code",
   "execution_count": 35,
   "metadata": {},
   "outputs": [
    {
     "name": "stdout",
     "output_type": "stream",
     "text": [
      "my precision =  0.5584415584415584 real precision =  0.5584415584415584\n"
     ]
    }
   ],
   "source": [
    "from sklearn.metrics import precision_score\n",
    "my_precision = (TP)/(TP + FP)\n",
    "precision = precision_score(true_classes, pred_classes)\n",
    "print('my precision = ', my_precision, 'real precision = ', precision)"
   ]
  },
  {
   "cell_type": "code",
   "execution_count": 36,
   "metadata": {},
   "outputs": [
    {
     "name": "stdout",
     "output_type": "stream",
     "text": [
      "my recall =  0.4215686274509804 real recall =  0.4215686274509804\n"
     ]
    }
   ],
   "source": [
    "from sklearn.metrics import recall_score\n",
    "my_recall = (TP)/(TP + FN)\n",
    "recall = recall_score(true_classes, pred_classes)\n",
    "print('my recall = ', my_recall, 'real recall = ', recall)"
   ]
  },
  {
   "cell_type": "code",
   "execution_count": 37,
   "metadata": {},
   "outputs": [
    {
     "name": "stdout",
     "output_type": "stream",
     "text": [
      "my score =  0.48044692737430167 real score =  0.48044692737430167\n"
     ]
    }
   ],
   "source": [
    "from sklearn.metrics import f1_score\n",
    "my_f1 = 2*recall*precision/(precision+recall)\n",
    "f1 = f1_score(true_classes, pred_classes)\n",
    "print('my score = ', my_f1, 'real score = ', f1)"
   ]
  },
  {
   "cell_type": "code",
   "execution_count": 38,
   "metadata": {},
   "outputs": [],
   "source": [
    "data2 = pd.read_csv('scores.csv')"
   ]
  },
  {
   "cell_type": "code",
   "execution_count": 39,
   "metadata": {},
   "outputs": [
    {
     "data": {
      "text/html": [
       "<div>\n",
       "<style scoped>\n",
       "    .dataframe tbody tr th:only-of-type {\n",
       "        vertical-align: middle;\n",
       "    }\n",
       "\n",
       "    .dataframe tbody tr th {\n",
       "        vertical-align: top;\n",
       "    }\n",
       "\n",
       "    .dataframe thead th {\n",
       "        text-align: right;\n",
       "    }\n",
       "</style>\n",
       "<table border=\"1\" class=\"dataframe\">\n",
       "  <thead>\n",
       "    <tr style=\"text-align: right;\">\n",
       "      <th></th>\n",
       "      <th>true</th>\n",
       "      <th>score_logreg</th>\n",
       "      <th>score_svm</th>\n",
       "      <th>score_knn</th>\n",
       "      <th>score_tree</th>\n",
       "    </tr>\n",
       "  </thead>\n",
       "  <tbody>\n",
       "    <tr>\n",
       "      <td>0</td>\n",
       "      <td>0</td>\n",
       "      <td>0.683832</td>\n",
       "      <td>0.145976</td>\n",
       "      <td>0.787063</td>\n",
       "      <td>0.500000</td>\n",
       "    </tr>\n",
       "    <tr>\n",
       "      <td>1</td>\n",
       "      <td>1</td>\n",
       "      <td>0.801966</td>\n",
       "      <td>0.239511</td>\n",
       "      <td>1.000000</td>\n",
       "      <td>0.833333</td>\n",
       "    </tr>\n",
       "    <tr>\n",
       "      <td>2</td>\n",
       "      <td>0</td>\n",
       "      <td>0.382315</td>\n",
       "      <td>-0.245701</td>\n",
       "      <td>0.000000</td>\n",
       "      <td>0.000000</td>\n",
       "    </tr>\n",
       "    <tr>\n",
       "      <td>3</td>\n",
       "      <td>1</td>\n",
       "      <td>0.506797</td>\n",
       "      <td>-0.137058</td>\n",
       "      <td>0.000000</td>\n",
       "      <td>0.105263</td>\n",
       "    </tr>\n",
       "    <tr>\n",
       "      <td>4</td>\n",
       "      <td>1</td>\n",
       "      <td>0.488781</td>\n",
       "      <td>-0.154148</td>\n",
       "      <td>0.000000</td>\n",
       "      <td>0.105263</td>\n",
       "    </tr>\n",
       "  </tbody>\n",
       "</table>\n",
       "</div>"
      ],
      "text/plain": [
       "   true  score_logreg  score_svm  score_knn  score_tree\n",
       "0     0      0.683832   0.145976   0.787063    0.500000\n",
       "1     1      0.801966   0.239511   1.000000    0.833333\n",
       "2     0      0.382315  -0.245701   0.000000    0.000000\n",
       "3     1      0.506797  -0.137058   0.000000    0.105263\n",
       "4     1      0.488781  -0.154148   0.000000    0.105263"
      ]
     },
     "execution_count": 39,
     "metadata": {},
     "output_type": "execute_result"
    }
   ],
   "source": [
    "data2[:5]"
   ]
  },
  {
   "cell_type": "code",
   "execution_count": 40,
   "metadata": {},
   "outputs": [],
   "source": [
    "y = data2.iloc[:,0].to_numpy()\n",
    "logregX = data2.iloc[:,1].to_numpy()\n",
    "svmX = data2.iloc[:,2].to_numpy()\n",
    "knnX = data2.iloc[:,3].to_numpy()\n",
    "treeX = data2.iloc[:,4].to_numpy()"
   ]
  },
  {
   "cell_type": "code",
   "execution_count": 44,
   "metadata": {},
   "outputs": [],
   "source": [
    "from sklearn.metrics import roc_auc_score\n",
    "score_logreg = roc_auc_score(y, logregX)\n",
    "score_svm = roc_auc_score(y, svmX)\n",
    "score_knn = roc_auc_score(y, knnX)\n",
    "score_tree = roc_auc_score(y, treeX)"
   ]
  },
  {
   "cell_type": "code",
   "execution_count": 45,
   "metadata": {},
   "outputs": [
    {
     "name": "stdout",
     "output_type": "stream",
     "text": [
      "logreg: 0.719187675070028 svm: 0.7086834733893557 knn: 0.6351540616246498 tree: 0.6919267707082833\n"
     ]
    }
   ],
   "source": [
    "print('logreg:', score_logreg, 'svm:', score_svm,'knn:', score_knn,'tree:', score_tree)"
   ]
  },
  {
   "cell_type": "code",
   "execution_count": null,
   "metadata": {},
   "outputs": [],
   "source": [
    "import matplotl"
   ]
  },
  {
   "cell_type": "code",
   "execution_count": 56,
   "metadata": {},
   "outputs": [
    {
     "name": "stdout",
     "output_type": "stream",
     "text": [
      "0.6302521008403361\n"
     ]
    }
   ],
   "source": [
    "from sklearn.metrics import precision_recall_curve\n",
    "prec,rec,thresh = precision_recall_curve(y, logregX)\n",
    "idx = np.where(rec >= 0.7)\n",
    "print(np.max(prec[idx]))"
   ]
  },
  {
   "cell_type": "code",
   "execution_count": 57,
   "metadata": {},
   "outputs": [
    {
     "name": "stdout",
     "output_type": "stream",
     "text": [
      "0.6228070175438597\n"
     ]
    }
   ],
   "source": [
    "prec,rec,thresh = precision_recall_curve(y, svmX)\n",
    "idx = np.where(rec >= 0.7)\n",
    "print(np.max(prec[idx]))"
   ]
  },
  {
   "cell_type": "code",
   "execution_count": 58,
   "metadata": {},
   "outputs": [
    {
     "name": "stdout",
     "output_type": "stream",
     "text": [
      "0.6065573770491803\n"
     ]
    }
   ],
   "source": [
    "prec,rec,thresh = precision_recall_curve(y, knnX)\n",
    "idx = np.where(rec >= 0.7)\n",
    "print(np.max(prec[idx]))"
   ]
  },
  {
   "cell_type": "code",
   "execution_count": 59,
   "metadata": {},
   "outputs": [
    {
     "name": "stdout",
     "output_type": "stream",
     "text": [
      "0.6517857142857143\n"
     ]
    }
   ],
   "source": [
    "prec,rec,thresh = precision_recall_curve(y, treeX)\n",
    "idx = np.where(rec >= 0.7)\n",
    "print(np.max(prec[idx]))"
   ]
  },
  {
   "cell_type": "code",
   "execution_count": null,
   "metadata": {},
   "outputs": [],
   "source": []
  }
 ],
 "metadata": {
  "kernelspec": {
   "display_name": "Python 3",
   "language": "python",
   "name": "python3"
  },
  "language_info": {
   "codemirror_mode": {
    "name": "ipython",
    "version": 3
   },
   "file_extension": ".py",
   "mimetype": "text/x-python",
   "name": "python",
   "nbconvert_exporter": "python",
   "pygments_lexer": "ipython3",
   "version": "3.7.4"
  }
 },
 "nbformat": 4,
 "nbformat_minor": 2
}
