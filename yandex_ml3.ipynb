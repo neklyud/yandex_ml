{
  "nbformat": 4,
  "nbformat_minor": 0,
  "metadata": {
    "colab": {
      "name": "yandex_ml3",
      "provenance": [],
      "include_colab_link": true
    },
    "kernelspec": {
      "name": "python3",
      "display_name": "Python 3"
    }
  },
  "cells": [
    {
      "cell_type": "markdown",
      "metadata": {
        "id": "view-in-github",
        "colab_type": "text"
      },
      "source": [
        "<a href=\"https://colab.research.google.com/github/neklyud/yandex_ml/blob/master/yandex_ml3.ipynb\" target=\"_parent\"><img src=\"https://colab.research.google.com/assets/colab-badge.svg\" alt=\"Open In Colab\"/></a>"
      ]
    },
    {
      "cell_type": "code",
      "metadata": {
        "id": "sykxBBAaMsay",
        "colab_type": "code",
        "colab": {}
      },
      "source": [
        "import pandas as pd"
      ],
      "execution_count": 0,
      "outputs": []
    },
    {
      "cell_type": "markdown",
      "metadata": {
        "id": "0sQS57J3cXsU",
        "colab_type": "text"
      },
      "source": [
        "# Используем датасет Wine"
      ]
    },
    {
      "cell_type": "code",
      "metadata": {
        "id": "VV79UO-fNPK1",
        "colab_type": "code",
        "outputId": "84d2aca2-8e9f-4a3d-b7f6-2a48fca62ea1",
        "colab": {
          "base_uri": "https://localhost:8080/",
          "height": 74
        }
      },
      "source": [
        "data = pd.read_table('wine.data', sep = ',', header=None)\n",
        "y = data[0]\n",
        "X = data.drop(columns=[0])\n"
      ],
      "execution_count": 0,
      "outputs": [
        {
          "output_type": "stream",
          "text": [
            "/usr/local/lib/python3.6/dist-packages/ipykernel_launcher.py:1: FutureWarning: read_table is deprecated, use read_csv instead.\n",
            "  \"\"\"Entry point for launching an IPython kernel.\n"
          ],
          "name": "stderr"
        }
      ]
    },
    {
      "cell_type": "code",
      "metadata": {
        "id": "ReIj4LYqNcFa",
        "colab_type": "code",
        "outputId": "1cf617a1-821a-4367-c715-3df9d8d08cd1",
        "colab": {
          "base_uri": "https://localhost:8080/",
          "height": 35
        }
      },
      "source": [
        "from sklearn.model_selection import KFold\n",
        "kf = KFold(n_splits=5, random_state = 42, shuffle = True)\n",
        "kf.get_n_splits(X)"
      ],
      "execution_count": 0,
      "outputs": [
        {
          "output_type": "execute_result",
          "data": {
            "text/plain": [
              "5"
            ]
          },
          "metadata": {
            "tags": []
          },
          "execution_count": 54
        }
      ]
    },
    {
      "cell_type": "code",
      "metadata": {
        "id": "TimI9A_pRgN2",
        "colab_type": "code",
        "colab": {}
      },
      "source": [
        "X = X.to_numpy()\n",
        "y = y.to_numpy()"
      ],
      "execution_count": 0,
      "outputs": []
    },
    {
      "cell_type": "code",
      "metadata": {
        "id": "oqRN5lthQW_j",
        "colab_type": "code",
        "outputId": "874ef08e-68ee-4856-9d12-673c0b41e0e4",
        "colab": {
          "base_uri": "https://localhost:8080/",
          "height": 926
        }
      },
      "source": [
        "for train_index, test_index in kf.split(X):\n",
        "    print(\"TRAIN:\", train_index, \"\\nTEST:\", test_index)\n",
        "    X_train, X_test = X[train_index], X[test_index]\n",
        "    y_train, y_test = y[train_index], y[test_index]"
      ],
      "execution_count": 0,
      "outputs": [
        {
          "output_type": "stream",
          "text": [
            "TRAIN: [  0   1   2   3   4   5   6   7   8  10  11  13  14  17  20  21  22  23\n",
            "  25  26  27  28  32  33  34  35  36  37  38  39  40  43  44  46  47  48\n",
            "  49  50  51  52  53  54  56  57  58  59  61  62  63  64  68  69  70  71\n",
            "  72  73  74  75  76  77  78  79  80  81  83  84  85  86  87  88  89  91\n",
            "  92  93  94  95  96  97  98  99 100 101 102 103 104 105 106 107 108 110\n",
            " 112 115 116 120 121 122 123 124 125 126 127 129 130 131 132 133 134 135\n",
            " 136 137 138 139 142 143 144 146 147 148 149 151 152 153 154 155 156 157\n",
            " 158 159 160 161 162 163 165 166 167 168 170 172 173 175 176 177] \n",
            "TEST: [  9  12  15  16  18  19  24  29  30  31  41  42  45  55  60  65  66  67\n",
            "  82  90 109 111 113 114 117 118 119 128 140 141 145 150 164 169 171 174]\n",
            "TRAIN: [  0   1   3   5   7   8   9  10  12  13  14  15  16  17  18  19  20  21\n",
            "  23  24  25  28  29  30  31  33  34  35  37  39  40  41  42  43  44  45\n",
            "  46  47  48  49  50  52  53  54  55  57  58  59  60  61  62  63  64  65\n",
            "  66  67  70  71  72  73  74  75  77  79  80  81  82  83  84  86  87  88\n",
            "  89  90  91  92  94  96  99 101 102 103 105 106 107 109 110 111 112 113\n",
            " 114 115 116 117 118 119 120 121 123 124 125 126 127 128 129 130 131 132\n",
            " 133 134 135 136 139 140 141 142 145 147 148 149 150 151 152 155 156 157\n",
            " 160 161 162 163 164 165 166 168 169 171 172 173 174 175 176 177] \n",
            "TEST: [  2   4   6  11  22  26  27  32  36  38  51  56  68  69  76  78  85  93\n",
            "  95  97  98 100 104 108 122 137 138 143 144 146 153 154 158 159 167 170]\n",
            "TRAIN: [  1   2   3   4   5   6   7   8   9  11  12  13  14  15  16  17  18  19\n",
            "  20  21  22  24  26  27  29  30  31  32  34  35  36  37  38  41  42  43\n",
            "  45  46  48  49  50  51  52  53  54  55  56  57  58  59  60  63  65  66\n",
            "  67  68  69  70  71  72  74  76  77  78  80  82  83  85  87  88  89  90\n",
            "  91  92  93  95  97  98  99 100 102 103 104 105 106 107 108 109 110 111\n",
            " 112 113 114 115 116 117 118 119 121 122 124 128 129 130 131 134 136 137\n",
            " 138 140 141 143 144 145 146 148 149 150 151 152 153 154 155 156 157 158\n",
            " 159 160 161 163 164 165 167 168 169 170 171 172 174 175 176 177] \n",
            "TEST: [  0  10  23  25  28  33  39  40  44  47  61  62  64  73  75  79  81  84\n",
            "  86  94  96 101 120 123 125 126 127 132 133 135 139 142 147 162 166 173]\n",
            "TRAIN: [  0   1   2   4   6   9  10  11  12  14  15  16  18  19  20  21  22  23\n",
            "  24  25  26  27  28  29  30  31  32  33  36  37  38  39  40  41  42  44\n",
            "  45  47  48  50  51  52  54  55  56  57  58  60  61  62  63  64  65  66\n",
            "  67  68  69  71  73  74  75  76  78  79  81  82  84  85  86  87  88  90\n",
            "  92  93  94  95  96  97  98  99 100 101 102 103 104 106 107 108 109 111\n",
            " 113 114 116 117 118 119 120 121 122 123 125 126 127 128 129 130 132 133\n",
            " 135 137 138 139 140 141 142 143 144 145 146 147 148 149 150 151 153 154\n",
            " 157 158 159 162 163 164 166 167 168 169 170 171 172 173 174 175 177] \n",
            "TEST: [  3   5   7   8  13  17  34  35  43  46  49  53  59  70  72  77  80  83\n",
            "  89  91 105 110 112 115 124 131 134 136 152 155 156 160 161 165 176]\n",
            "TRAIN: [  0   2   3   4   5   6   7   8   9  10  11  12  13  15  16  17  18  19\n",
            "  22  23  24  25  26  27  28  29  30  31  32  33  34  35  36  38  39  40\n",
            "  41  42  43  44  45  46  47  49  51  53  55  56  59  60  61  62  64  65\n",
            "  66  67  68  69  70  72  73  75  76  77  78  79  80  81  82  83  84  85\n",
            "  86  89  90  91  93  94  95  96  97  98 100 101 104 105 108 109 110 111\n",
            " 112 113 114 115 117 118 119 120 122 123 124 125 126 127 128 131 132 133\n",
            " 134 135 136 137 138 139 140 141 142 143 144 145 146 147 150 152 153 154\n",
            " 155 156 158 159 160 161 162 164 165 166 167 169 170 171 173 174 176] \n",
            "TEST: [  1  14  20  21  37  48  50  52  54  57  58  63  71  74  87  88  92  99\n",
            " 102 103 106 107 116 121 129 130 148 149 151 157 163 168 172 175 177]\n"
          ],
          "name": "stdout"
        }
      ]
    },
    {
      "cell_type": "code",
      "metadata": {
        "id": "5tpyCz3NTFuO",
        "colab_type": "code",
        "outputId": "beb543d5-ec73-4e29-91f3-6a3cf55a02ed",
        "colab": {
          "base_uri": "https://localhost:8080/",
          "height": 72
        }
      },
      "source": [
        "from sklearn.neighbors import KNeighborsClassifier\n",
        "neigh = KNeighborsClassifier(n_neighbors=3)\n",
        "neigh.fit(X, y)"
      ],
      "execution_count": 0,
      "outputs": [
        {
          "output_type": "execute_result",
          "data": {
            "text/plain": [
              "KNeighborsClassifier(algorithm='auto', leaf_size=30, metric='minkowski',\n",
              "                     metric_params=None, n_jobs=None, n_neighbors=3, p=2,\n",
              "                     weights='uniform')"
            ]
          },
          "metadata": {
            "tags": []
          },
          "execution_count": 57
        }
      ]
    },
    {
      "cell_type": "code",
      "metadata": {
        "id": "7D6VudQPQkLt",
        "colab_type": "code",
        "outputId": "5c467b01-a1d6-4037-9790-bfe98be36401",
        "colab": {
          "base_uri": "https://localhost:8080/",
          "height": 35
        }
      },
      "source": [
        "from sklearn.model_selection import cross_val_score\n",
        "print(cross_val_score(neigh, X, y, cv=kf)) "
      ],
      "execution_count": 0,
      "outputs": [
        {
          "output_type": "stream",
          "text": [
            "[0.80555556 0.61111111 0.63888889 0.65714286 0.82857143]\n"
          ],
          "name": "stdout"
        }
      ]
    },
    {
      "cell_type": "code",
      "metadata": {
        "id": "37TVTGW7VcU0",
        "colab_type": "code",
        "colab": {}
      },
      "source": [
        "means = []\n",
        "for i in range(1, 51):\n",
        "  neigh = KNeighborsClassifier(n_neighbors=i)\n",
        "  neigh.fit(X, y)\n",
        "  means.append(cross_val_score(neigh, X, y, cv=kf).mean())"
      ],
      "execution_count": 0,
      "outputs": []
    },
    {
      "cell_type": "code",
      "metadata": {
        "id": "J-Dv7_rLTh7h",
        "colab_type": "code",
        "outputId": "fde680cb-c3d7-4fca-c83e-49313a5aad6f",
        "colab": {
          "base_uri": "https://localhost:8080/",
          "height": 35
        }
      },
      "source": [
        "max(means)"
      ],
      "execution_count": 0,
      "outputs": [
        {
          "output_type": "execute_result",
          "data": {
            "text/plain": [
              "0.7304761904761905"
            ]
          },
          "metadata": {
            "tags": []
          },
          "execution_count": 60
        }
      ]
    },
    {
      "cell_type": "code",
      "metadata": {
        "id": "hQPjNGANV5Qk",
        "colab_type": "code",
        "outputId": "5ead670f-6d8b-4422-84c9-ded5e2226662",
        "colab": {
          "base_uri": "https://localhost:8080/",
          "height": 108
        }
      },
      "source": [
        "print(means == max(means))"
      ],
      "execution_count": 0,
      "outputs": [
        {
          "output_type": "stream",
          "text": [
            "[ True False False False False False False False False False False False\n",
            " False False False False False False False False False False False False\n",
            " False False False False False False False False False False False False\n",
            " False False False False False False False False False False False False\n",
            " False False]\n"
          ],
          "name": "stdout"
        }
      ]
    },
    {
      "cell_type": "code",
      "metadata": {
        "id": "RBvBiekTWLC8",
        "colab_type": "code",
        "outputId": "84d515ed-08e3-4e65-9210-5d7e85642dc1",
        "colab": {
          "base_uri": "https://localhost:8080/",
          "height": 163
        }
      },
      "source": [
        "from sklearn.preprocessing import scale\n",
        "print(X[:4])\n",
        "X = scale(X)"
      ],
      "execution_count": 0,
      "outputs": [
        {
          "output_type": "stream",
          "text": [
            "[[1.423e+01 1.710e+00 2.430e+00 1.560e+01 1.270e+02 2.800e+00 3.060e+00\n",
            "  2.800e-01 2.290e+00 5.640e+00 1.040e+00 3.920e+00 1.065e+03]\n",
            " [1.320e+01 1.780e+00 2.140e+00 1.120e+01 1.000e+02 2.650e+00 2.760e+00\n",
            "  2.600e-01 1.280e+00 4.380e+00 1.050e+00 3.400e+00 1.050e+03]\n",
            " [1.316e+01 2.360e+00 2.670e+00 1.860e+01 1.010e+02 2.800e+00 3.240e+00\n",
            "  3.000e-01 2.810e+00 5.680e+00 1.030e+00 3.170e+00 1.185e+03]\n",
            " [1.437e+01 1.950e+00 2.500e+00 1.680e+01 1.130e+02 3.850e+00 3.490e+00\n",
            "  2.400e-01 2.180e+00 7.800e+00 8.600e-01 3.450e+00 1.480e+03]]\n"
          ],
          "name": "stdout"
        }
      ]
    },
    {
      "cell_type": "code",
      "metadata": {
        "id": "Q2H7YErcXSjy",
        "colab_type": "code",
        "outputId": "6f89d5bc-0d00-4a3d-c571-f26d7705a6da",
        "colab": {
          "base_uri": "https://localhost:8080/",
          "height": 72
        }
      },
      "source": [
        "print(X[:1])"
      ],
      "execution_count": 0,
      "outputs": [
        {
          "output_type": "stream",
          "text": [
            "[[ 1.51861254 -0.5622498   0.23205254 -1.16959318  1.91390522  0.80899739\n",
            "   1.03481896 -0.65956311  1.22488398  0.25171685  0.36217728  1.84791957\n",
            "   1.01300893]]\n"
          ],
          "name": "stdout"
        }
      ]
    },
    {
      "cell_type": "code",
      "metadata": {
        "id": "wVD5WHC2Xe3d",
        "colab_type": "code",
        "colab": {}
      },
      "source": [
        "means = []\n",
        "for i in range(1, 51):\n",
        "  neigh = KNeighborsClassifier(n_neighbors=i)\n",
        "  neigh.fit(X, y)\n",
        "  means.append(cross_val_score(neigh, X, y, cv=kf).mean())"
      ],
      "execution_count": 0,
      "outputs": []
    },
    {
      "cell_type": "code",
      "metadata": {
        "id": "3DiJo6bxXque",
        "colab_type": "code",
        "outputId": "74a26b2f-ab72-4a01-8615-b658577612aa",
        "colab": {
          "base_uri": "https://localhost:8080/",
          "height": 55
        }
      },
      "source": [
        "print(means)"
      ],
      "execution_count": 0,
      "outputs": [
        {
          "output_type": "stream",
          "text": [
            "[0.943968253968254, 0.9328571428571429, 0.9550793650793651, 0.9382539682539683, 0.9493650793650794, 0.9495238095238095, 0.9495238095238095, 0.9552380952380952, 0.9607936507936508, 0.9607936507936508, 0.9609523809523809, 0.9552380952380952, 0.9495238095238093, 0.9663492063492063, 0.9720634920634922, 0.9720634920634922, 0.9665079365079364, 0.9665079365079364, 0.9553968253968254, 0.9665079365079364, 0.9609523809523811, 0.9665079365079364, 0.9609523809523809, 0.9552380952380952, 0.9552380952380952, 0.9607936507936508, 0.9552380952380952, 0.9663492063492063, 0.9776190476190475, 0.9607936507936508, 0.9552380952380952, 0.9607936507936508, 0.9663492063492063, 0.9663492063492063, 0.9607936507936508, 0.9607936507936508, 0.9552380952380952, 0.9607936507936508, 0.9607936507936508, 0.9607936507936508, 0.9663492063492063, 0.9607936507936508, 0.9663492063492063, 0.9606349206349206, 0.9663492063492063, 0.9495238095238095, 0.9550793650793651, 0.9495238095238095, 0.9550793650793651, 0.9606349206349206]\n"
          ],
          "name": "stdout"
        }
      ]
    },
    {
      "cell_type": "code",
      "metadata": {
        "id": "eXfw_3j2XsoE",
        "colab_type": "code",
        "outputId": "f48c2573-a4c1-4764-e99a-f55c68063a6e",
        "colab": {
          "base_uri": "https://localhost:8080/",
          "height": 35
        }
      },
      "source": [
        "print(max(means))"
      ],
      "execution_count": 0,
      "outputs": [
        {
          "output_type": "stream",
          "text": [
            "0.9776190476190475\n"
          ],
          "name": "stdout"
        }
      ]
    },
    {
      "cell_type": "code",
      "metadata": {
        "id": "_7HFpBNKXvXV",
        "colab_type": "code",
        "outputId": "2bb9bbdc-2952-434f-fe9d-7299ca77e4b9",
        "colab": {
          "base_uri": "https://localhost:8080/",
          "height": 108
        }
      },
      "source": [
        "print(means == max(means))"
      ],
      "execution_count": 0,
      "outputs": [
        {
          "output_type": "stream",
          "text": [
            "[False False False False False False False False False False False False\n",
            " False False False False False False False False False False False False\n",
            " False False False False  True False False False False False False False\n",
            " False False False False False False False False False False False False\n",
            " False False]\n"
          ],
          "name": "stdout"
        }
      ]
    },
    {
      "cell_type": "code",
      "metadata": {
        "id": "3_WZFCY1XyaN",
        "colab_type": "code",
        "outputId": "6e4aeee4-1a01-464a-fddf-8f6f76de3f8b",
        "colab": {
          "base_uri": "https://localhost:8080/",
          "height": 35
        }
      },
      "source": [
        "print(means.index(max(means)))"
      ],
      "execution_count": 0,
      "outputs": [
        {
          "output_type": "stream",
          "text": [
            "28\n"
          ],
          "name": "stdout"
        }
      ]
    },
    {
      "cell_type": "code",
      "metadata": {
        "id": "O58q5pgFYD1B",
        "colab_type": "code",
        "colab": {}
      },
      "source": [
        ""
      ],
      "execution_count": 0,
      "outputs": []
    }
  ]
}