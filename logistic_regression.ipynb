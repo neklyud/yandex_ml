{
 "cells": [
  {
   "cell_type": "code",
   "execution_count": 31,
   "metadata": {},
   "outputs": [],
   "source": [
    "import pandas as pd\n",
    "import numpy as np"
   ]
  },
  {
   "cell_type": "code",
   "execution_count": 97,
   "metadata": {},
   "outputs": [],
   "source": [
    "data = pd.read_csv('data-logistic.csv', header=None)"
   ]
  },
  {
   "cell_type": "code",
   "execution_count": 98,
   "metadata": {},
   "outputs": [
    {
     "name": "stderr",
     "output_type": "stream",
     "text": [
      "C:\\Users\\snekl\\Anaconda3\\lib\\site-packages\\ipykernel_launcher.py:1: FutureWarning: Method .as_matrix will be removed in a future version. Use .values instead.\n",
      "  \"\"\"Entry point for launching an IPython kernel.\n",
      "C:\\Users\\snekl\\Anaconda3\\lib\\site-packages\\ipykernel_launcher.py:2: FutureWarning: Method .as_matrix will be removed in a future version. Use .values instead.\n",
      "  \n",
      "C:\\Users\\snekl\\Anaconda3\\lib\\site-packages\\ipykernel_launcher.py:3: FutureWarning: Method .as_matrix will be removed in a future version. Use .values instead.\n",
      "  This is separate from the ipykernel package so we can avoid doing imports until\n"
     ]
    }
   ],
   "source": [
    "X1 = data.loc[:, 1].as_matrix(columns=None)\n",
    "X2 = data.loc[:, 2].as_matrix(columns=None)\n",
    "y = data.loc[:, 0].as_matrix(columns=None)"
   ]
  },
  {
   "cell_type": "code",
   "execution_count": 99,
   "metadata": {},
   "outputs": [
    {
     "data": {
      "text/plain": [
       "array([-1,  1, -1,  1,  1,  1,  1, -1, -1,  1, -1, -1, -1, -1,  1, -1, -1,\n",
       "        1,  1,  1, -1,  1, -1, -1, -1, -1,  1,  1, -1, -1, -1, -1,  1,  1,\n",
       "       -1, -1,  1,  1, -1,  1,  1, -1,  1, -1, -1,  1,  1, -1, -1,  1,  1,\n",
       "        1, -1,  1, -1, -1, -1,  1,  1,  1,  1,  1,  1,  1, -1,  1, -1,  1,\n",
       "       -1,  1,  1, -1,  1, -1, -1, -1,  1, -1,  1, -1,  1, -1,  1,  1, -1,\n",
       "        1,  1, -1,  1, -1, -1, -1,  1, -1, -1,  1,  1, -1, -1, -1,  1,  1,\n",
       "       -1, -1, -1,  1,  1,  1,  1, -1, -1,  1,  1,  1, -1,  1, -1, -1,  1,\n",
       "       -1,  1, -1,  1, -1,  1,  1,  1, -1,  1,  1,  1, -1, -1, -1,  1, -1,\n",
       "        1, -1,  1, -1,  1,  1,  1,  1,  1,  1,  1,  1,  1,  1, -1, -1, -1,\n",
       "       -1,  1, -1, -1,  1, -1, -1, -1, -1,  1,  1,  1,  1, -1,  1, -1, -1,\n",
       "        1, -1, -1, -1,  1,  1, -1,  1, -1,  1,  1, -1,  1, -1,  1, -1, -1,\n",
       "       -1, -1, -1,  1,  1, -1, -1,  1,  1, -1,  1,  1, -1,  1,  1, -1,  1,\n",
       "       -1], dtype=int64)"
      ]
     },
     "execution_count": 99,
     "metadata": {},
     "output_type": "execute_result"
    }
   ],
   "source": [
    "y"
   ]
  },
  {
   "cell_type": "code",
   "execution_count": 153,
   "metadata": {},
   "outputs": [],
   "source": [
    "def functional_w1(w1, w2, y, x1, x2, l, C = 10):\n",
    "    f = 0.\n",
    "    for i in range(l):\n",
    "        f = f + y[i]*x1[i]*(1. - 1./(1 + np.exp(-y[i]*(w1*x1[i] + w2*x2[i]))))\n",
    "    return f/l"
   ]
  },
  {
   "cell_type": "code",
   "execution_count": 154,
   "metadata": {},
   "outputs": [],
   "source": [
    "def functional_w2(w1, w2, y, x1, x2, l, C = 10):\n",
    "    f = 0\n",
    "    for i in range(l):\n",
    "        f += y[i]*x2[i]*(1. - 1./(1 + np.exp(-y[i]*(w1*x1[i] + w2*x2[i]))))\n",
    "    return f/l"
   ]
  },
  {
   "cell_type": "code",
   "execution_count": 163,
   "metadata": {},
   "outputs": [
    {
     "name": "stdout",
     "output_type": "stream",
     "text": [
      "0\n",
      "1\n",
      "2\n",
      "3\n",
      "4\n",
      "5\n",
      "6\n",
      "7\n"
     ]
    }
   ],
   "source": [
    "k = 0.1\n",
    "w1n = 0\n",
    "w2n = 0\n",
    "w1n_withoutL = 0\n",
    "w2n_withoutL = 0\n",
    "l = len(y)\n",
    "C = 10\n",
    "n = 0\n",
    "e = 1\n",
    "while n < 10000 and e > 1e-5:\n",
    "    w1 = w1n\n",
    "    w2 = w2n\n",
    "    w1n = w1 + k*functional_w1(w1,w2,y,X1,X2,l,C) - k*C*w1\n",
    "    w2n = w2 + k*functional_w2(w1,w2,y,X1,X2,l,C) - k*C*w2\n",
    "    e = np.sqrt((w1n-w1)**2 + (w2n - w2)**2)\n",
    "    print(n)\n",
    "    n = n + 1"
   ]
  },
  {
   "cell_type": "code",
   "execution_count": 164,
   "metadata": {},
   "outputs": [
    {
     "name": "stdout",
     "output_type": "stream",
     "text": [
      "0.028558754546234223 0.02478013724973556\n"
     ]
    }
   ],
   "source": [
    "print(w1n, w2n)"
   ]
  },
  {
   "cell_type": "code",
   "execution_count": 165,
   "metadata": {},
   "outputs": [],
   "source": [
    "def f(w1,w2, y, x1, x2, C):\n",
    "    s = []\n",
    "    for i in range(len(y)):\n",
    "        s.append(1./(1 + np.exp(-(w1*x1[i]+w2*x2[i]))))\n",
    "    return s"
   ]
  },
  {
   "cell_type": "code",
   "execution_count": 166,
   "metadata": {},
   "outputs": [],
   "source": [
    "y_score = np.asarray(f(w1n,w2n, y, X1, X2, C))"
   ]
  },
  {
   "cell_type": "code",
   "execution_count": 167,
   "metadata": {},
   "outputs": [],
   "source": [
    "#Пример roc_auc_scores"
   ]
  },
  {
   "cell_type": "code",
   "execution_count": 168,
   "metadata": {},
   "outputs": [
    {
     "data": {
      "text/plain": [
       "0.9362857142857142"
      ]
     },
     "execution_count": 168,
     "metadata": {},
     "output_type": "execute_result"
    }
   ],
   "source": [
    "from sklearn.metrics import roc_auc_score\n",
    "y_true = y\n",
    "roc_auc_score(y_true, y_score)"
   ]
  },
  {
   "cell_type": "code",
   "execution_count": null,
   "metadata": {},
   "outputs": [],
   "source": [
    "0.926 0.936"
   ]
  }
 ],
 "metadata": {
  "kernelspec": {
   "display_name": "Python 3",
   "language": "python",
   "name": "python3"
  },
  "language_info": {
   "codemirror_mode": {
    "name": "ipython",
    "version": 3
   },
   "file_extension": ".py",
   "mimetype": "text/x-python",
   "name": "python",
   "nbconvert_exporter": "python",
   "pygments_lexer": "ipython3",
   "version": "3.7.4"
  }
 },
 "nbformat": 4,
 "nbformat_minor": 2
}
