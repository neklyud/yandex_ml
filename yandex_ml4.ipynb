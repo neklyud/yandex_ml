{
  "nbformat": 4,
  "nbformat_minor": 0,
  "metadata": {
    "colab": {
      "name": "yandex_ml4",
      "provenance": [],
      "include_colab_link": true
    },
    "kernelspec": {
      "name": "python3",
      "display_name": "Python 3"
    }
  },
  "cells": [
    {
      "cell_type": "markdown",
      "metadata": {
        "id": "view-in-github",
        "colab_type": "text"
      },
      "source": [
        "<a href=\"https://colab.research.google.com/github/neklyud/yandex_ml/blob/master/yandex_ml4.ipynb\" target=\"_parent\"><img src=\"https://colab.research.google.com/assets/colab-badge.svg\" alt=\"Open In Colab\"/></a>"
      ]
    },
    {
      "cell_type": "code",
      "metadata": {
        "id": "sck1FtwCclKJ",
        "colab_type": "code",
        "colab": {}
      },
      "source": [
        "from sklearn.datasets import load_boston\n",
        "boston = load_boston()"
      ],
      "execution_count": 0,
      "outputs": []
    },
    {
      "cell_type": "markdown",
      "metadata": {
        "id": "qI-pl_0odOZ5",
        "colab_type": "text"
      },
      "source": [
        "# Датасет Бостон. Признаки:\n",
        "1. CRIM - уровень преступности на душу населения\n",
        "2. ZN - доля жилой земли, зонированной для участков более 25 000 м^2\n",
        "3. INDUS - доля нерозничных бизнес-акров\n",
        "4. CHAS - Фиктивная переменная Чарльз-Ривер (= 1, если путь ограничивает реку; 0 в противном случае)\n",
        "5. Концентрация оксидов азота NOX (частей на 10 миллионов)\n",
        "6. RM - среднее количество комнат на жилое помещение\n",
        "7. AGE - доля занимаемых владельцами квартир, построенных до 1940 года\n",
        "8. DIS - взвешанное расстояние до пяти бостонских центров занятости\n",
        "9. RAD - индекс доступности к радиальным магистралям\n",
        "10. TAX - Налоговая ставка на имущество на 10 000 долларов США\n",
        "11. PTRATIO - Соотношение учеников и учителей по городам\n",
        "12. B 1000 (Bk - 0,63) ^ 2, где Bk - доля чернокожих по городам\n",
        "13. LSTAT% - ниже статуса населения\n",
        "14. MEDV - Средняя стоимость домов, занимаемых владельцами, в 1000 долл. США\n"
      ]
    },
    {
      "cell_type": "code",
      "metadata": {
        "id": "JZ13N5fYc54R",
        "colab_type": "code",
        "colab": {}
      },
      "source": [
        "X = boston.data\n",
        "y = boston.target"
      ],
      "execution_count": 0,
      "outputs": []
    },
    {
      "cell_type": "markdown",
      "metadata": {
        "id": "qotj5YUBf3In",
        "colab_type": "text"
      },
      "source": [
        "# Масштабируем признаки"
      ]
    },
    {
      "cell_type": "code",
      "metadata": {
        "id": "6UhynP80eqV0",
        "colab_type": "code",
        "colab": {}
      },
      "source": [
        "from sklearn.preprocessing import scale\n",
        "X = scale(X)"
      ],
      "execution_count": 0,
      "outputs": []
    },
    {
      "cell_type": "markdown",
      "metadata": {
        "id": "SLSp9I-8f6KI",
        "colab_type": "text"
      },
      "source": [
        "# Обучаем при помощи классификатора k ближайших соседей"
      ]
    },
    {
      "cell_type": "code",
      "metadata": {
        "id": "4-9YXxkUfDnr",
        "colab_type": "code",
        "outputId": "2fada3ce-519e-4fd2-88b3-447cbf94a042",
        "colab": {
          "base_uri": "https://localhost:8080/",
          "height": 72
        }
      },
      "source": [
        "from sklearn.neighbors import KNeighborsRegressor\n",
        "neigh = KNeighborsRegressor(n_neighbors=5, weights = 'distance')\n",
        "neigh.fit(X, y)"
      ],
      "execution_count": 0,
      "outputs": [
        {
          "output_type": "execute_result",
          "data": {
            "text/plain": [
              "KNeighborsRegressor(algorithm='auto', leaf_size=30, metric='minkowski',\n",
              "                    metric_params=None, n_jobs=None, n_neighbors=5, p=2,\n",
              "                    weights='distance')"
            ]
          },
          "metadata": {
            "tags": []
          },
          "execution_count": 50
        }
      ]
    },
    {
      "cell_type": "code",
      "metadata": {
        "id": "G6XeY96ygmxW",
        "colab_type": "code",
        "outputId": "0cea36cd-0d89-4669-a107-9cf329429bde",
        "colab": {
          "base_uri": "https://localhost:8080/",
          "height": 35
        }
      },
      "source": [
        "from sklearn.model_selection import KFold\n",
        "kf = KFold(n_splits=5, random_state = 42, shuffle = True)\n",
        "kf.get_n_splits(X)\n",
        "#for train_index, test_index in kf.split(X):\n",
        "#    print(\"TRAIN:\", train_index, \"TEST:\", test_index)\n",
        "#    X_train, X_test = X[train_index], X[test_index]\n",
        "#    y_train, y_test = y[train_index], y[test_index]"
      ],
      "execution_count": 0,
      "outputs": [
        {
          "output_type": "execute_result",
          "data": {
            "text/plain": [
              "5"
            ]
          },
          "metadata": {
            "tags": []
          },
          "execution_count": 51
        }
      ]
    },
    {
      "cell_type": "code",
      "metadata": {
        "id": "ZvOXL99EiJVu",
        "colab_type": "code",
        "colab": {}
      },
      "source": [
        "import numpy as np\n",
        "linsps = np.linspace(1,10,num = 200)"
      ],
      "execution_count": 0,
      "outputs": []
    },
    {
      "cell_type": "code",
      "metadata": {
        "id": "Y_kA7JZvfrE0",
        "colab_type": "code",
        "colab": {}
      },
      "source": [
        "means = []\n",
        "from sklearn.model_selection import cross_val_score\n",
        "for count in linsps:\n",
        "  neigh = KNeighborsRegressor(n_neighbors=5, weights = 'distance', p=count)\n",
        "  neigh.fit(X, y)\n",
        "  means.append(cross_val_score(neigh, X, y, cv=kf, scoring='neg_mean_squared_error').mean()) "
      ],
      "execution_count": 0,
      "outputs": []
    },
    {
      "cell_type": "code",
      "metadata": {
        "id": "u0hzB0kVhNCX",
        "colab_type": "code",
        "outputId": "87384f2b-4d40-464d-d51d-81a9dc129806",
        "colab": {
          "base_uri": "https://localhost:8080/",
          "height": 35
        }
      },
      "source": [
        "print(max(means))"
      ],
      "execution_count": 0,
      "outputs": [
        {
          "output_type": "stream",
          "text": [
            "-16.030646734221644\n"
          ],
          "name": "stdout"
        }
      ]
    },
    {
      "cell_type": "code",
      "metadata": {
        "id": "HXDm0rimkyfY",
        "colab_type": "code",
        "outputId": "62841bbe-b8fa-4455-b70b-7e936528064d",
        "colab": {
          "base_uri": "https://localhost:8080/",
          "height": 35
        }
      },
      "source": [
        "print(means.index(-16.030646734221644))"
      ],
      "execution_count": 0,
      "outputs": [
        {
          "output_type": "stream",
          "text": [
            "0\n"
          ],
          "name": "stdout"
        }
      ]
    },
    {
      "cell_type": "code",
      "metadata": {
        "id": "5sWY66i5k21f",
        "colab_type": "code",
        "outputId": "12b395b7-f484-46c6-e04a-59cd4cd79887",
        "colab": {
          "base_uri": "https://localhost:8080/",
          "height": 35
        }
      },
      "source": [
        "linsps[0]"
      ],
      "execution_count": 0,
      "outputs": [
        {
          "output_type": "execute_result",
          "data": {
            "text/plain": [
              "1.0"
            ]
          },
          "metadata": {
            "tags": []
          },
          "execution_count": 57
        }
      ]
    },
    {
      "cell_type": "code",
      "metadata": {
        "id": "J3f5hXhmmdpp",
        "colab_type": "code",
        "colab": {}
      },
      "source": [
        ""
      ],
      "execution_count": 0,
      "outputs": []
    }
  ]
}